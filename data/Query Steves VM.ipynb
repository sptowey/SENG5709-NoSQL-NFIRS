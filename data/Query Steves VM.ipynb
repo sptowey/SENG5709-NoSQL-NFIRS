{
 "cells": [
  {
   "cell_type": "code",
   "execution_count": null,
   "metadata": {},
   "outputs": [],
   "source": [
    "import os as os\n",
    "firstCommand=\"curl -X 'POST' -H 'Content-Type:application/json' -d \"\n",
    "baseDir=\"@/home/curtice/druid/NFIRS/jsonConfigFile/\"\n",
    "queryName=\"query_busiest_dept.json \"\n",
    "server=\"http://40.122.132.135:8082/druid/v2?pretty\"\n"
   ]
  },
  {
   "cell_type": "code",
   "execution_count": null,
   "metadata": {},
   "outputs": [],
   "source": [
    "queryLocation = \"/home/curtice/druid/SENG5709/data/query/\"\n",
    "dirContents = os.listdir(queryLocation)"
   ]
  },
  {
   "cell_type": "code",
   "execution_count": null,
   "metadata": {
    "scrolled": true
   },
   "outputs": [],
   "source": [
    "for x in dirContents:\n",
    "    print(x)"
   ]
  },
  {
   "cell_type": "code",
   "execution_count": null,
   "metadata": {
    "scrolled": true
   },
   "outputs": [],
   "source": [
    "for x in dirContents:\n",
    "    command=firstCommand+'@'+queryLocation+x+' '+server\n",
    "    print(command)\n",
    "    print('/n''/n')\n",
    "    print(x)\n",
    "    os.system(\"gnome-terminal -e 'bash -c \\\"\"+command+\";bash\\\"'\")\n",
    "    input(\"Press Enter to Continue...\")\n",
    "print(\"Completed!\")"
   ]
  }
 ],
 "metadata": {
  "kernelspec": {
   "display_name": "Python 3",
   "language": "python",
   "name": "python3"
  },
  "language_info": {
   "codemirror_mode": {
    "name": "ipython",
    "version": 3
   },
   "file_extension": ".py",
   "mimetype": "text/x-python",
   "name": "python",
   "nbconvert_exporter": "python",
   "pygments_lexer": "ipython3",
   "version": "3.6.5"
  }
 },
 "nbformat": 4,
 "nbformat_minor": 2
}
